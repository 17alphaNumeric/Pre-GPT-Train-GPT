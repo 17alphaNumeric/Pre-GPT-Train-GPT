{
  "nbformat": 4,
  "nbformat_minor": 0,
  "metadata": {
    "colab": {
      "provenance": []
    },
    "kernelspec": {
      "name": "python3",
      "display_name": "Python 3"
    },
    "language_info": {
      "name": "python"
    }
  },
  "cells": [
    {
      "cell_type": "code",
      "execution_count": 2,
      "metadata": {
        "colab": {
          "base_uri": "https://localhost:8080/"
        },
        "id": "Z05defYsART3",
        "outputId": "6e28f036-a474-4354-cbd8-2091f36b6fe4"
      },
      "outputs": [
        {
          "output_type": "stream",
          "name": "stdout",
          "text": [
            "Scraped text data: \n",
            "\n",
            "\n",
            "The content of this site is owned by Veterinary Information Network (VIN®), and its reproduction and distribution may only be done with VIN®'s express permission. \n",
            "The information contained here is for general purposes only and is not a substitute for advice from your veterinarian. Any reliance you place on such information is strictly at             your own risk.\n",
            "Links to non-VIN websites do not imply a recommendation or endorsement by VIN® of the views or content contained within those sit\n"
          ]
        }
      ],
      "source": [
        "import requests\n",
        "from bs4 import BeautifulSoup\n",
        "\n",
        "def scrape_veterinary_partner():\n",
        "    url = \"https://veterinarypartner.vin.com/default.aspx?pId=19239&catId=102887\"\n",
        "    response = requests.get(url)\n",
        "    soup = BeautifulSoup(response.text, 'html.parser')\n",
        "    content = soup.find_all('p')\n",
        "    text_data = \"\"\n",
        "    for paragraph in content:\n",
        "        text_data += paragraph.get_text() + \"\\n\"\n",
        "    return text_data\n",
        "\n",
        "def scrape_wiley():\n",
        "    url = \"https://onlinelibrary.wiley.com/page/journal/19391676/homepage/free_reviews_and_consensus_statements.htm\"\n",
        "    response = requests.get(url)\n",
        "    soup = BeautifulSoup(response.text, 'html.parser')\n",
        "    content = soup.find_all('p')\n",
        "    text_data = \"\"\n",
        "    for paragraph in content:\n",
        "        text_data += paragraph.get_text() + \"\\n\"\n",
        "    return text_data\n",
        "\n",
        "# Scrape and combine data\n",
        "veterinary_data = scrape_veterinary_partner()\n",
        "wiley_data = scrape_wiley()\n",
        "combined_text_data = veterinary_data + \"\\n\" + wiley_data\n",
        "print(\"Scraped text data:\", combined_text_data[:500])"
      ]
    },
    {
      "cell_type": "code",
      "source": [
        "# Tokenization code\n",
        "import torch\n",
        "\n",
        "vocab = sorted(list(set(combined_text_data)))  # Use combined_text_data here\n",
        "stoi = {ch: i for i, ch in enumerate(vocab)}\n",
        "itos = {i: ch for i, ch in enumerate(vocab)}\n",
        "\n",
        "#def encode(text):\n",
        "    #return [stoi[char] for char in text]\n",
        "\n",
        "def encode(text):\n",
        "    return [stoi[char] for char in text if char in stoi]  # Ignore unknown characters\n",
        "\n",
        "\n",
        "def decode(tokens):\n",
        "    return ''.join([itos[token] for token in tokens])\n",
        "\n",
        "data = torch.tensor(encode(combined_text_data), dtype=torch.long)\n",
        "print(\"Data tensor created successfully with shape:\", data.shape)"
      ],
      "metadata": {
        "colab": {
          "base_uri": "https://localhost:8080/"
        },
        "id": "OMc-z3efEa4v",
        "outputId": "d00b9de7-37c9-424c-9212-36fb2ac8f9e4"
      },
      "execution_count": 3,
      "outputs": [
        {
          "output_type": "stream",
          "name": "stdout",
          "text": [
            "Data tensor created successfully with shape: torch.Size([545])\n"
          ]
        }
      ]
    },
    {
      "cell_type": "code",
      "source": [
        "import torch\n",
        "import torch.nn as nn\n",
        "import torch.nn.functional as F\n",
        "\n",
        "class GPTModel(nn.Module):\n",
        "    def __init__(self, vocab_size, n_embd, n_head, n_layer, block_size, dropout=0.2):\n",
        "        super().__init__()\n",
        "        self.token_embedding = nn.Embedding(vocab_size, n_embd)\n",
        "        self.position_embedding = nn.Embedding(block_size, n_embd)\n",
        "        self.blocks = nn.ModuleList([Block(n_embd, n_head) for _ in range(n_layer)])\n",
        "        self.ln_f = nn.LayerNorm(n_embd)\n",
        "        self.head = nn.Linear(n_embd, vocab_size)\n",
        "\n",
        "    def forward(self, idx, targets=None):\n",
        "        B, T = idx.shape\n",
        "        tok_emb = self.token_embedding(idx)\n",
        "        pos_emb = self.position_embedding(torch.arange(T, device=idx.device))\n",
        "        x = tok_emb + pos_emb\n",
        "        for block in self.blocks:\n",
        "            x = block(x)\n",
        "        x = self.ln_f(x)\n",
        "        logits = self.head(x)\n",
        "\n",
        "        loss = None\n",
        "        if targets is not None:\n",
        "            loss = F.cross_entropy(logits.view(-1, logits.size(-1)), targets.view(-1))\n",
        "        return logits, loss\n",
        "\n",
        "class Block(nn.Module):\n",
        "    def __init__(self, n_embd, n_head):\n",
        "        super().__init__()\n",
        "        self.sa = MultiHeadAttention(n_embd, n_head)\n",
        "        self.ffwd = FeedForward(n_embd)\n",
        "        self.ln1 = nn.LayerNorm(n_embd)\n",
        "        self.ln2 = nn.LayerNorm(n_embd)\n",
        "\n",
        "    def forward(self, x):\n",
        "        x = x + self.sa(self.ln1(x))\n",
        "        x = x + self.ffwd(self.ln2(x))\n",
        "        return x\n",
        "\n",
        "class MultiHeadAttention(nn.Module):\n",
        "    def __init__(self, n_embd, n_head):\n",
        "        super().__init__()\n",
        "        head_size = n_embd // n_head\n",
        "        self.heads = nn.ModuleList([Head(n_embd, head_size) for _ in range(n_head)])\n",
        "        self.proj = nn.Linear(n_embd, n_embd)\n",
        "\n",
        "    def forward(self, x):\n",
        "        out = torch.cat([h(x) for h in self.heads], dim=-1)\n",
        "        return self.proj(out)\n",
        "\n",
        "class Head(nn.Module):\n",
        "    def __init__(self, n_embd, head_size):\n",
        "        super().__init__()\n",
        "        self.key = nn.Linear(n_embd, head_size, bias=False)\n",
        "        self.query = nn.Linear(n_embd, head_size, bias=False)\n",
        "        self.value = nn.Linear(n_embd, head_size, bias=False)\n",
        "        self.dropout = nn.Dropout(0.2)\n",
        "\n",
        "    def forward(self, x):\n",
        "        B, T, C = x.size()\n",
        "        k = self.key(x)\n",
        "        q = self.query(x)\n",
        "        wei = q @ k.transpose(-2, -1) * (C ** -0.5)\n",
        "        wei = F.softmax(wei, dim=-1)\n",
        "        v = self.value(x)\n",
        "        out = wei @ v\n",
        "        return out\n",
        "\n",
        "class FeedForward(nn.Module):\n",
        "    def __init__(self, n_embd):\n",
        "        super().__init__()\n",
        "        self.net = nn.Sequential(\n",
        "            nn.Linear(n_embd, 4 * n_embd),\n",
        "            nn.ReLU(),\n",
        "            nn.Linear(4 * n_embd, n_embd)\n",
        "        )\n",
        "\n",
        "    def forward(self, x):\n",
        "        return self.net(x)\n"
      ],
      "metadata": {
        "id": "ttC6x0PvEbER"
      },
      "execution_count": 4,
      "outputs": []
    },
    {
      "cell_type": "code",
      "source": [
        "import torch.optim as optim\n",
        "\n",
        "# Hyperparameters\n",
        "vocab_size = len(vocab)\n",
        "block_size = 40\n",
        "n_embd = 512\n",
        "n_head = 8\n",
        "n_layer = 6\n",
        "learning_rate = 3e-4\n",
        "#device = 'cuda' if torch.cuda.is_available() else 'cpu'\n",
        "\n",
        "# Set the device based on availability\n",
        "device = 'cuda' if torch.cuda.is_available() else 'mps' if torch.backends.mps.is_available() else 'cpu'\n",
        "print(f\"Using device: {device}\")\n",
        "\n",
        "# Model setup\n",
        "model = GPTModel(vocab_size, n_embd, n_head, n_layer, block_size).to(device)\n",
        "optimizer = optim.Adam(model.parameters(), lr=learning_rate)\n",
        "\n",
        "def get_batch(data, batch_size, block_size):\n",
        "    ix = torch.randint(len(data) - block_size, (batch_size,))\n",
        "    x = torch.stack([data[i:i+block_size] for i in ix])\n",
        "    y = torch.stack([data[i+1:i+1+block_size] for i in ix])\n",
        "    return x.to(device), y.to(device)\n",
        "\n",
        "for epoch in range(500):  # Adjust number of epochs as needed\n",
        "    model.train()\n",
        "    xb, yb = get_batch(data, batch_size=64, block_size=block_size)\n",
        "    logits, loss = model(xb, yb)\n",
        "    optimizer.zero_grad()\n",
        "    loss.backward()\n",
        "    optimizer.step()\n",
        "\n",
        "    if epoch % 100 == 0:\n",
        "        print(f\"Epoch {epoch} Loss: {loss.item()}\")\n"
      ],
      "metadata": {
        "colab": {
          "base_uri": "https://localhost:8080/"
        },
        "id": "iXOGF9vPEbH5",
        "outputId": "7ac84adc-1bfb-4f69-ec66-6137f1c7341e"
      },
      "execution_count": 5,
      "outputs": [
        {
          "output_type": "stream",
          "name": "stdout",
          "text": [
            "Using device: cpu\n",
            "Epoch 0 Loss: 3.8697242736816406\n",
            "Epoch 100 Loss: 0.06791512668132782\n",
            "Epoch 200 Loss: 0.01268330030143261\n",
            "Epoch 300 Loss: 0.0017159543931484222\n",
            "Epoch 400 Loss: 0.0007557602366432548\n"
          ]
        }
      ]
    },
    {
      "cell_type": "code",
      "source": [
        "import torch.nn.functional as F  # Import necessary module\n",
        "\n",
        "def generate(model, start_text, max_length=100):\n",
        "    model.eval()\n",
        "    start_text = start_text.lower()  # Ensure consistency with vocabulary if lowercase only\n",
        "    idx = torch.tensor(encode(start_text), dtype=torch.long, device=device).unsqueeze(0)\n",
        "    for _ in range(max_length):\n",
        "        # Limit input sequence length to block_size\n",
        "        idx_cond = idx[:, -block_size:]\n",
        "        logits, _ = model(idx_cond)  # Pass the limited sequence to the model\n",
        "        next_id = torch.multinomial(F.softmax(logits[:, -1, :], dim=-1), num_samples=1)\n",
        "        idx = torch.cat((idx, next_id), dim=1)\n",
        "    return decode(idx[0].tolist())\n",
        "\n",
        "print(generate(model, start_text=\"What should I do if my dog\", max_length=100))"
      ],
      "metadata": {
        "id": "EyWiSwsYEbN_",
        "colab": {
          "base_uri": "https://localhost:8080/"
        },
        "outputId": "15d85bbf-10a9-48ac-8a50-6d633247c4b6"
      },
      "execution_count": 11,
      "outputs": [
        {
          "output_type": "stream",
          "name": "stdout",
          "text": [
            "what should i do if my dogexply: r    plyond endorss nondodbs bs dotsskss otssomes otsor od onoro ovioonouoouoouououououououou\n"
          ]
        }
      ]
    },
    {
      "cell_type": "code",
      "source": [],
      "metadata": {
        "id": "H131waLgEbRj"
      },
      "execution_count": null,
      "outputs": []
    },
    {
      "cell_type": "code",
      "source": [],
      "metadata": {
        "id": "lBW32k1aEbUt"
      },
      "execution_count": null,
      "outputs": []
    },
    {
      "cell_type": "code",
      "source": [],
      "metadata": {
        "id": "Wn6XYtbGEbYK"
      },
      "execution_count": null,
      "outputs": []
    }
  ]
}