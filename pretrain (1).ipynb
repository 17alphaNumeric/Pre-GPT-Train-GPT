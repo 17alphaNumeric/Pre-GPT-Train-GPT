{
  "nbformat": 4,
  "nbformat_minor": 0,
  "metadata": {
    "colab": {
      "provenance": []
    },
    "kernelspec": {
      "name": "python3",
      "display_name": "Python 3"
    },
    "language_info": {
      "name": "python"
    }
  },
  "cells": [
    {
      "cell_type": "code",
      "execution_count": 2,
      "metadata": {
        "colab": {
          "base_uri": "https://localhost:8080/"
        },
        "id": "cTLSHBk4rNoH",
        "outputId": "2c0a571a-a952-4b54-8893-15daec3d5c91"
      },
      "outputs": [
        {
          "output_type": "stream",
          "name": "stdout",
          "text": [
            "Scraped text data: \n",
            "\n",
            "\n",
            "The content of this site is owned by Veterinary Information Network (VIN®), and its reproduction and distribution may only be done with VIN®'s express permission. \n",
            "The information contained here is for general purposes only and is not a substitute for advice from your veterinarian. Any reliance you place on such information is strictly at             your own risk.\n",
            "Links to non-VIN websites do not imply a recommendation or endorsement by VIN® of the views or content contained within those sit\n"
          ]
        }
      ],
      "source": [
        "import requests\n",
        "from bs4 import BeautifulSoup\n",
        "\n",
        "def scrape_veterinary_partner():\n",
        "    url = \"https://veterinarypartner.vin.com/default.aspx?pId=19239&catId=102887\"\n",
        "    response = requests.get(url)\n",
        "    soup = BeautifulSoup(response.text, 'html.parser')\n",
        "    content = soup.find_all('p')\n",
        "    text_data = \"\"\n",
        "    for paragraph in content:\n",
        "        text_data += paragraph.get_text() + \"\\n\"\n",
        "    return text_data\n",
        "\n",
        "def scrape_wiley():\n",
        "    url = \"https://onlinelibrary.wiley.com/page/journal/19391676/homepage/free_reviews_and_consensus_statements.htm\"\n",
        "    response = requests.get(url)\n",
        "    soup = BeautifulSoup(response.text, 'html.parser')\n",
        "    content = soup.find_all('p')\n",
        "    text_data = \"\"\n",
        "    for paragraph in content:\n",
        "        text_data += paragraph.get_text() + \"\\n\"\n",
        "    return text_data\n",
        "\n",
        "# Scrape and combine data\n",
        "veterinary_data = scrape_veterinary_partner()\n",
        "wiley_data = scrape_wiley()\n",
        "combined_text_data = veterinary_data + \"\\n\" + wiley_data\n",
        "print(\"Scraped text data:\", combined_text_data[:500])"
      ]
    },
    {
      "cell_type": "code",
      "source": [
        "import torch\n",
        "\n",
        "vocab = sorted(list(set(combined_text_data)))\n",
        "stoi = {ch: i for i, ch in enumerate(vocab)}\n",
        "itos = {i: ch for i, ch in enumerate(vocab)}\n",
        "\n",
        "def encode(text):\n",
        "    return [stoi[char] for char in text if char in stoi]\n",
        "\n",
        "def decode(tokens):\n",
        "    return ''.join([itos[token] for token in tokens])\n",
        "\n",
        "data = torch.tensor(encode(combined_text_data), dtype=torch.long)\n",
        "print(\"Data tensor created successfully with shape:\", data.shape)"
      ],
      "metadata": {
        "colab": {
          "base_uri": "https://localhost:8080/"
        },
        "id": "iFIbC9nCrV1x",
        "outputId": "63b6aa44-3667-4306-cfff-e6444fed2b70"
      },
      "execution_count": 3,
      "outputs": [
        {
          "output_type": "stream",
          "name": "stdout",
          "text": [
            "Data tensor created successfully with shape: torch.Size([545])\n"
          ]
        }
      ]
    },
    {
      "cell_type": "code",
      "source": [
        "import torch\n",
        "import torch.nn as nn\n",
        "import torch.nn.functional as F\n",
        "\n",
        "class GPTModel(nn.Module):\n",
        "    def __init__(self, vocab_size, n_embd, n_head, n_layer, block_size, dropout=0.2):\n",
        "        super().__init__()\n",
        "        self.token_embedding = nn.Embedding(vocab_size, n_embd)\n",
        "        self.position_embedding = nn.Embedding(block_size, n_embd)\n",
        "        self.blocks = nn.ModuleList([Block(n_embd, n_head) for _ in range(n_layer)])\n",
        "        self.ln_f = nn.LayerNorm(n_embd)\n",
        "        self.head = nn.Linear(n_embd, vocab_size)\n",
        "\n",
        "    def forward(self, idx, targets=None):\n",
        "        B, T = idx.shape\n",
        "        tok_emb = self.token_embedding(idx)\n",
        "        pos_emb = self.position_embedding(torch.arange(T, device=idx.device))\n",
        "        x = tok_emb + pos_emb\n",
        "        for block in self.blocks:\n",
        "            x = block(x)\n",
        "        x = self.ln_f(x)\n",
        "        logits = self.head(x)\n",
        "\n",
        "        loss = None\n",
        "        if targets is not None:\n",
        "            loss = F.cross_entropy(logits.view(-1, logits.size(-1)), targets.view(-1))\n",
        "        return logits, loss\n",
        "\n",
        "class Block(nn.Module):\n",
        "    def __init__(self, n_embd, n_head):\n",
        "        super().__init__()\n",
        "        self.sa = MultiHeadAttention(n_embd, n_head)\n",
        "        self.ffwd = FeedForward(n_embd)\n",
        "        self.ln1 = nn.LayerNorm(n_embd)\n",
        "        self.ln2 = nn.LayerNorm(n_embd)\n",
        "\n",
        "    def forward(self, x):\n",
        "        x = x + self.sa(self.ln1(x))\n",
        "        x = x + self.ffwd(self.ln2(x))\n",
        "        return x\n",
        "\n",
        "class MultiHeadAttention(nn.Module):\n",
        "    def __init__(self, n_embd, n_head):\n",
        "        super().__init__()\n",
        "        head_size = n_embd // n_head\n",
        "        self.heads = nn.ModuleList([Head(n_embd, head_size) for _ in range(n_head)])\n",
        "        self.proj = nn.Linear(n_embd, n_embd)\n",
        "\n",
        "    def forward(self, x):\n",
        "        out = torch.cat([h(x) for h in self.heads], dim=-1)\n",
        "        return self.proj(out)\n",
        "\n",
        "class Head(nn.Module):\n",
        "    def __init__(self, n_embd, head_size):\n",
        "        super().__init__()\n",
        "        self.key = nn.Linear(n_embd, head_size, bias=False)\n",
        "        self.query = nn.Linear(n_embd, head_size, bias=False)\n",
        "        self.value = nn.Linear(n_embd, head_size, bias=False)\n",
        "        self.dropout = nn.Dropout(0.2)\n",
        "\n",
        "    def forward(self, x):\n",
        "        B, T, C = x.size()\n",
        "        k = self.key(x)\n",
        "        q = self.query(x)\n",
        "        wei = q @ k.transpose(-2, -1) * (C ** -0.5)\n",
        "        wei = F.softmax(wei, dim=-1)\n",
        "        v = self.value(x)\n",
        "        out = wei @ v\n",
        "        return out\n",
        "\n",
        "class FeedForward(nn.Module):\n",
        "    def __init__(self, n_embd):\n",
        "        super().__init__()\n",
        "        self.net = nn.Sequential(\n",
        "            nn.Linear(n_embd, 4 * n_embd),\n",
        "            nn.ReLU(),\n",
        "            nn.Linear(4 * n_embd, n_embd)\n",
        "        )\n",
        "\n",
        "    def forward(self, x):\n",
        "        return self.net(x)"
      ],
      "metadata": {
        "id": "CAA-rlBnrWAI"
      },
      "execution_count": 4,
      "outputs": []
    },
    {
      "cell_type": "code",
      "source": [
        "import torch.optim as optim\n",
        "\n",
        "# Hyperparameters\n",
        "vocab_size = len(vocab)\n",
        "block_size = 40\n",
        "n_embd = 512\n",
        "n_head = 8\n",
        "n_layer = 6\n",
        "learning_rate = 3e-4\n",
        "\n",
        "# Set the device based on availability (ensure GPU usage)\n",
        "device = 'cuda' if torch.cuda.is_available() else 'mps' if torch.backends.mps.is_available() else 'cpu'\n",
        "print(f\"Using device: {device}\")\n",
        "\n",
        "# Model setup\n",
        "model = GPTModel(vocab_size, n_embd, n_head, n_layer, block_size).to(device)\n",
        "optimizer = optim.Adam(model.parameters(), lr=learning_rate)\n",
        "\n",
        "def get_batch(data, batch_size, block_size):\n",
        "    ix = torch.randint(len(data) - block_size, (batch_size,))\n",
        "    x = torch.stack([data[i:i+block_size] for i in ix])\n",
        "    y = torch.stack([data[i+1:i+1+block_size] for i in ix])\n",
        "    return x.to(device), y.to(device)\n",
        "\n",
        "# Pre-training loop\n",
        "for epoch in range(1000):  # Increased number of epochs for better pre-training\n",
        "    model.train()\n",
        "    xb, yb = get_batch(data, batch_size=64, block_size=block_size)\n",
        "    logits, loss = model(xb, yb)\n",
        "    optimizer.zero_grad()\n",
        "    loss.backward()\n",
        "    optimizer.step()\n",
        "\n",
        "    if epoch % 100 == 0:\n",
        "        print(f\"Epoch {epoch} Loss: {loss.item()}\")"
      ],
      "metadata": {
        "colab": {
          "base_uri": "https://localhost:8080/"
        },
        "id": "eqVunQ3crWDJ",
        "outputId": "57fcde8a-c36f-4dbf-ac10-80f912fbf922"
      },
      "execution_count": 5,
      "outputs": [
        {
          "output_type": "stream",
          "name": "stdout",
          "text": [
            "Using device: cpu\n",
            "Epoch 0 Loss: 3.7926666736602783\n",
            "Epoch 100 Loss: 0.07118929177522659\n",
            "Epoch 200 Loss: 0.01641661860048771\n",
            "Epoch 300 Loss: 0.001510773436166346\n",
            "Epoch 400 Loss: 0.0007169797900132835\n",
            "Epoch 500 Loss: 0.0005241303006187081\n",
            "Epoch 600 Loss: 0.0003659983049146831\n",
            "Epoch 700 Loss: 0.0003023621975444257\n",
            "Epoch 800 Loss: 0.00023387155670206994\n",
            "Epoch 900 Loss: 0.00018377674859948456\n"
          ]
        }
      ]
    },
    {
      "cell_type": "code",
      "source": [
        "import torch.nn.functional as F  # Import necessary module\n",
        "\n",
        "def generate(model, start_text, max_length=100):\n",
        "    model.eval()\n",
        "    start_text = start_text.lower()  # Ensure consistency with vocabulary if lowercase only\n",
        "    idx = torch.tensor(encode(start_text), dtype=torch.long, device=device).unsqueeze(0)\n",
        "    for _ in range(max_length):\n",
        "        # Limit input sequence length to block_size\n",
        "        idx_cond = idx[:, -block_size:]\n",
        "        logits, _ = model(idx_cond)  # Pass the limited sequence to the model\n",
        "        next_id = torch.multinomial(F.softmax(logits[:, -1, :], dim=-1), num_samples=1)\n",
        "        idx = torch.cat((idx, next_id), dim=1)\n",
        "    return decode(idx[0].tolist())\n",
        "\n",
        "print(generate(model, start_text=\"What should I do if my dog\", max_length=100))"
      ],
      "metadata": {
        "colab": {
          "base_uri": "https://localhost:8080/"
        },
        "id": "cOeuKcO0rWGc",
        "outputId": "6717d031-59a8-4e0d-8fc0-27599781c907"
      },
      "execution_count": 6,
      "outputs": [
        {
          "output_type": "stream",
          "name": "stdout",
          "text": [
            "what should i do if my dogexply gexply: ply inly y: ply yely: mammay y:ly:mmmmmmmmmmmmmmmmmmmmmmmmmmmmmmmmmmmmmmmmmmmmmmmmmmmm\n"
          ]
        }
      ]
    },
    {
      "cell_type": "code",
      "source": [],
      "metadata": {
        "id": "pB4xbVTKrWOI"
      },
      "execution_count": null,
      "outputs": []
    }
  ]
}