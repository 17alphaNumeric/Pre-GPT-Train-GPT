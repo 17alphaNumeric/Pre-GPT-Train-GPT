{
  "nbformat": 4,
  "nbformat_minor": 0,
  "metadata": {
    "colab": {
      "provenance": []
    },
    "kernelspec": {
      "name": "python3",
      "display_name": "Python 3"
    },
    "language_info": {
      "name": "python"
    }
  },
  "cells": [
    {
      "cell_type": "code",
      "execution_count": 1,
      "metadata": {
        "id": "a-4EBo7y7ZfP"
      },
      "outputs": [],
      "source": [
        "# Import necessary libraries\n",
        "import os\n",
        "import requests\n",
        "from bs4 import BeautifulSoup\n",
        "import torch\n",
        "import torch.nn as nn\n",
        "import torch.optim as optim\n",
        "from torch.utils.data import Dataset, DataLoader\n"
      ]
    },
    {
      "cell_type": "code",
      "source": [
        "# Set output directory\n",
        "output_directory = '/content/sample_data'\n",
        "os.makedirs(output_directory, exist_ok=True)"
      ],
      "metadata": {
        "id": "00u2888n7s_D"
      },
      "execution_count": 2,
      "outputs": []
    },
    {
      "cell_type": "code",
      "source": [
        "# Define URL and categories to scrape\n",
        "URL = \"https://veterinarypartner.vin.com/default.aspx?pId=19239&catId=102887\"\n",
        "categories = [\n",
        "    \"Dogs\", \"Diseases and Conditions\", \"Care and Husbandry\", \"Toxicities\",\n",
        "    \"Behavior\", \"Cats\", \"Horses\", \"Birds\", \"Reptiles & Amphibians\",\n",
        "    \"Small Mammals\", \"Pigs\", \"Ruminants\", \"Medications\", \"Healthy Pets, Happy Owners\"\n",
        "]\n"
      ],
      "metadata": {
        "id": "KBgGwy5F7tDH"
      },
      "execution_count": 3,
      "outputs": []
    },
    {
      "cell_type": "code",
      "source": [
        "# Function to scrape and save veterinary information\n",
        "def scrape_categories():\n",
        "    # Send a request to the URL\n",
        "    response = requests.get(URL)\n",
        "    response.raise_for_status()  # Check if request was successful\n",
        "\n",
        "    # Parse the content using Beautiful Soup\n",
        "    soup = BeautifulSoup(response.text, 'html.parser')\n",
        "\n",
        "    text_data = []\n",
        "\n",
        "    for category in categories:\n",
        "        category_section = soup.find_all(string=lambda text: text and category in text)\n",
        "        for section in category_section:\n",
        "            parent_section = section.find_parent()\n",
        "            text_data.append(parent_section.get_text(strip=True))\n",
        "\n",
        "    # Set the output directory\n",
        "    output_directory = '/content/sample_data'\n",
        "    os.makedirs(output_directory, exist_ok=True)\n",
        "\n",
        "    # Save the extracted data to a text file\n",
        "    output_file = os.path.join(output_directory, 'veterinary_data1.txt')\n",
        "    with open(output_file, 'w', encoding='utf-8') as f:\n",
        "        f.write(\"\\n\".join(text_data))\n",
        "\n",
        "    print(f\"Data successfully saved to {output_file}\")\n",
        "\n",
        "# Call the function to scrape data\n",
        "scrape_categories()\n"
      ],
      "metadata": {
        "colab": {
          "base_uri": "https://localhost:8080/"
        },
        "id": "WEPowJxN7tFq",
        "outputId": "0a7edda4-89fa-4c54-ef63-c375f0366dfe"
      },
      "execution_count": 8,
      "outputs": [
        {
          "output_type": "stream",
          "name": "stdout",
          "text": [
            "Data successfully saved to /content/sample_data/veterinary_data1.txt\n"
          ]
        }
      ]
    },
    {
      "cell_type": "code",
      "source": [
        "# Check if the file exists and print the first 500 characters\n",
        "output_file = os.path.join(output_directory, 'veterinary_data1.txt')\n",
        "if os.path.exists(output_file):\n",
        "    print(f\"File exists: {output_file}\")\n",
        "    with open(output_file, 'r', encoding='utf-8') as f:\n",
        "        content = f.read()\n",
        "        print(\"First 10000 characters of the file:\")\n",
        "        print(content[:10000])  # Print the first 500 characters for verification\n",
        "else:\n",
        "    print(\"File not found.\")"
      ],
      "metadata": {
        "colab": {
          "base_uri": "https://localhost:8080/"
        },
        "id": "mMQA5-Ai7tI2",
        "outputId": "a11a4260-f262-42f7-ae09-356253cf61c7"
      },
      "execution_count": 13,
      "outputs": [
        {
          "output_type": "stream",
          "name": "stdout",
          "text": [
            "File exists: /content/sample_data/veterinary_data1.txt\n",
            "First 10000 characters of the file:\n",
            "Dogs\n",
            "Dogs\n",
            "Bilious Vomiting Syndrome in Dogs and Cats\n",
            "Allergic Conjunctivitis in Dogs and Cats\n",
            "Allergies: Atopic Dermatitis in Dogs and Cats\n",
            "Chylothorax is more Common in Cats than Dogs\n",
            "Dust Mites: Minimizing Exposure in Dogs and Cats\n",
            "Food Allergies in Dogs and Cats\n",
            "Immune Mediated Hemolytic Anemia (IMHA) in Dogs and Cats\n",
            "Immunotherapy for Allergies in Cats, Dogs, and Horses\n",
            "Itch Relief for Dogs and Cats\n",
            "Pemphigus Foliaceus in Dogs and Cats\n",
            "Steroid Use in Dogs and Cats\n",
            "Vaccine Allergic Reactions in Dogs and Cats\n",
            "Disseminated Intravascular Coagulation (DIC) in Dogs and Cats\n",
            "Flea Anemia in Cats and Dogs\n",
            "Immune Mediated Hemolytic Anemia (IMHA) in Dogs and Cats\n",
            "Multiple Myeloma in Dogs and Cats\n",
            "Renal Anemia, or Inadequate Red Blood Cells, in Dogs and Cats\n",
            "Thrombocytopenia in Dogs and Cats\n",
            "Common Lymphoma Chemotherapy Medications for Cats and Dogs\n",
            "Hemangiosarcoma is Blood or Skin Cancer in Dogs and Cats\n",
            "Insulinoma in Dogs and Cats\n",
            "Liver Tumors and Cancers in Dogs and Cats\n",
            "Lung Cancer in Dogs and Cats\n",
            "Lymphoma in the Skin of Dogs\n",
            "Malignant Melanoma in Dogs and Cats\n",
            "Malignant Thyroid Tumors in Dogs and Cats\n",
            "Mast Cell Tumors in Dogs and Cats\n",
            "Meningioma in Dogs and Cats\n",
            "Multiple Myeloma in Dogs and Cats\n",
            "Oral Squamous Cell Carcinoma in Dogs and Cats\n",
            "Transitional Cell Carcinoma in Dogs and Cats\n",
            "Atrial Fibrillation in Dogs and Cats\n",
            "Congestive Heart Failure in Dogs and Cats\n",
            "Cutaneous Vasculitis in Dogs and Cats\n",
            "Diaphragmatic Hernias in Dogs and Cats\n",
            "Diets and Heart Disease in Dogs and Cats\n",
            "Dilated Cardiomyopathy in Dogs and Cats\n",
            "Heart Murmurs in Dogs and Cats\n",
            "Pacemakers in Dogs and Cats\n",
            "Patent Ductus Arteriosus in Dogs and Cats\n",
            "Portal Vein Hypoplasia in Dogs and Cats\n",
            "Pulmonary Hypertension in Dogs and Cats\n",
            "Sleeping and Resting Respiratory Rates of Dogs and Cats with Heart Disease\n",
            "Vascular Accidents (Strokes) in the Brains of Dogs and Cats\n",
            "Bad Breath in Dogs and Cats\n",
            "Oral Masses/Ulcers in Dogs and Cats\n",
            "Periodontal Disease in Dogs and Cats\n",
            "Practical Dental Care Tips for Dogs and Cats\n",
            "Retained Baby Teeth in Dogs and Cats Need Surgical Extraction\n",
            "Salivary Mucocele in Dogs and Cats\n",
            "Toothbrushing and Dental Prophylaxis in Cats and Dogs\n",
            "Breed-Related Dermatoses in Dogs and Cats\n",
            "Cellulitis in Dogs and Cats\n",
            "Cutaneous Vasculitis in Dogs and Cats\n",
            "Cuterebriasis is a Parasite Causing Skin Infections in Dogs and Cats\n",
            "Flea and Tick Control Products for Dogs and Cats\n",
            "Flea Control for Allergic Dogs and Cats\n",
            "Hemangioma in Dogs and Cats\n",
            "Hot Spots (Pyotraumatic Dermatitis) in Dogs and Cats\n",
            "Hot Spots in Dogs and Cats\n",
            "Itch Relief for Dogs and Cats\n",
            "Lipomas in Dogs and Cats\n",
            "Malignant Melanoma in Dogs and Cats\n",
            "Pemphigus Foliaceus in Dogs and Cats\n",
            "Pyoderma in Dogs and Cats\n",
            "Ringworm in Dogs and Cats\n",
            "Topical Therapy for Skin Conditions in Dogs and Cats\n",
            "Workups for Itchy Dogs and Cats\n",
            "Wound Healing in Dogs and Cats\n",
            "Alternative Diets for Dogs and Cats\n",
            "Anorexia, or Lack of Appetite, in Dogs and Cats\n",
            "Coccidia Infects Intestines of Cats and Dogs\n",
            "Colitis-Related Diarrhea in Dogs and Cats\n",
            "Constipation and Megacolon in Dogs and Cats\n",
            "Diaphragmatic Hernias in Dogs and Cats\n",
            "Gallstones in Dogs and Cats\n",
            "Helicobacter Infection in Dogs and Cats\n",
            "Hepatic Encephalopathy in Dogs and Cats\n",
            "Inflammatory Bowel Disease in Dogs and Cats\n",
            "Irritable Bowel Syndrome (IBS) in Dogs\n",
            "Linear Foreign Bodies in Dogs and Cats\n",
            "Liver Tumors and Cancers in Dogs and Cats\n",
            "Portosystemic Shunt in Dogs and Cats\n",
            "Rectal Prolapse in Dogs and Cats\n",
            "Ear Infections (Otitis) in Dogs\n",
            "Ear Mites in Dogs and Cats\n",
            "Malassezia Otitis in Dogs and Cats\n",
            "Otitis Externa Treatment in Dogs and Cats\n",
            "Total Ear Canal Ablation and Ventral Bulla Osteotomy (TECA) for End-Stage Ears in Dogs and Cats\n",
            "Vestibular Disease in Dogs and Cats\n",
            "Diabetic Ketoacidosis in Dogs and Cats\n",
            "Exocrine Pancreatic Insufficiency in Dogs and Cats\n",
            "Flash Glucose Monitoring in Cats and Dogs\n",
            "Hypercalcemia in Dogs and Cats\n",
            "Hyperlipidemia in Dogs and Cats\n",
            "Malignant Thyroid Tumors in Dogs and Cats\n",
            "Monitoring Glucose Regulation in Dogs and Cats\n",
            "Allergic Conjunctivitis in Dogs and Cats\n",
            "Cataracts in Dogs and Cats\n",
            "Causes of Blindness in Dogs and Cats\n",
            "Corneal Ulcers and Erosions in Dogs and Cats\n",
            "Dry Eye (Keratoconjunctivitis Sicca) in Dogs and Cats\n",
            "Glaucoma in Dogs and Cats\n",
            "Iris Coloboma in Dogs and Cats\n",
            "Progressive Retinal Atrophy (PRA) in Dogs\n",
            "Uveitis in Dogs and Cats\n",
            "Poisoning in Dogs and Cats\n",
            "Anaplasmosis in Dogs and Cats Is Tick-Borne\n",
            "Blastomycosis is a Systemic Fungal infection Affecting Dogs and Cats\n",
            "Bloody Nose (Epistaxis) in Dogs and Cats\n",
            "Cellulitis in Dogs and Cats\n",
            "Coccidia Infects Intestines of Cats and Dogs\n",
            "Flea Anemia in Cats and Dogs\n",
            "Flea Control for Dogs and Cats\n",
            "Helicobacter Infection in Dogs and Cats\n",
            "Histoplasmosis in Dogs and Cats\n",
            "Hookworms in Cats and Dogs\n",
            "Hydrometra, Mucometra, and Pyometra in Dogs and Cats\n",
            "Lice in Dogs and Cats\n",
            "Malassezia Otitis in Dogs and Cats\n",
            "MRSA vs. MRSP in Dogs & Cats\n",
            "MRSA: Methicillin-resistant Staphylococcus aureus in Dogs and Cats\n",
            "Physaloptera (Stomach Worm) in Dogs and Cats\n",
            "Pyothorax in Dogs and Cats\n",
            "Pythiosis (Oomycosis, Lagenidiosis, Swamp Cancer, Bursatti, Leeches) in Dogs, Cats and Horses\n",
            "Taenia Species Tapeworms in Dogs and Cats\n",
            "Tapeworms (Dipylidium caninum) in Dogs and Cats\n",
            "Whipworm Infection in Dogs and Cats\n",
            "Ataxia in Dogs and Cats\n",
            "Brachial Plexus Avulsion in Dogs and Cats\n",
            "Cervical (Neck) Disk Disease in Dogs and Cats\n",
            "Cognitive Dysfunction Syndrome in Dogs\n",
            "Hepatic Encephalopathy in Dogs and Cats\n",
            "Horner's Syndrome in Cats and Dogs\n",
            "Hydrocephalus (Water on the Brain) in Dogs and Cats\n",
            "Myasthenia Gravis in Dogs and Cats\n",
            "Neuropathic Pain in Dogs and Cats\n",
            "Serotonin Syndrome in Dogs and Cats\n",
            "Spina Bifida in Dogs and Cats\n",
            "Traumatic Brain Injury in Dogs and Cats\n",
            "Vascular Accidents (Strokes) in the Brains of Dogs and Cats\n",
            "Vestibular Disease in Dogs and Cats\n",
            "Bloody Nose (Epistaxis) in Dogs and Cats\n",
            "Rhinitis in Dogs and Cats\n",
            "Calcium Phosphorus Balance in Dogs and Cats\n",
            "Diabetic Ketoacidosis in Dogs and Cats\n",
            "Diets and Heart Disease in Dogs and Cats\n",
            "Food Allergies in Dogs and Cats\n",
            "Home Cooked or Raw Diets for Dogs and Cats\n",
            "Hypocalcemia (Low Blood Calcium) in Cats and Dogs\n",
            "Obesity is Unhealthy in Dogs and Cats\n",
            "Arthritis in Dogs and Cats: What Can be Done?\n",
            "Brachial Plexus Avulsion in Dogs and Cats\n",
            "Cervical (Neck) Disk Disease in Dogs and Cats\n",
            "Diskospondylitis (Intervertebral Disk Infection) in Dogs and Cats\n",
            "Fractures in Dogs and Cats\n",
            "Hemivertebrae are Congenitally Deformed Vertebra in Dogs and Cats\n",
            "Hip Dislocation in Dogs and Cats\n",
            "Medications for Degenerative Arthritis in Dogs and Cats\n",
            "Normal Joints Look Like This in Dogs and Cats\n",
            "Spondylosis Deformans in Dogs and Cats\n",
            "Cryptorchidism (Retained Testicles) in Dogs and Cats\n",
            "Ovarian Remnant Syndrome in Dogs and Cats\n",
            "Paraphimosis and Phimosis in Dogs and Cats\n",
            "Pyometra in Dogs and Cats\n",
            "Chylothorax is more Common in Cats than Dogs\n",
            "Diaphragmatic Hernias in Dogs and Cats\n",
            "Pneumonia Management in Dogs and Cats\n",
            "Pneumothorax in Dogs and Cats\n",
            "Pulmonic Stenosis in Dogs and Cats\n",
            "Bladder Stones in Dogs and Cats\n",
            "Chronic Kidney Disease in Dogs and Cats: Where to Begin\n",
            "Ectopic Ureters in Dogs\n",
            "Glomerulonephritis in Dogs and Cats\n",
            "Kidney Transplants for Cats and Dogs\n",
            "Lithotripsy in Dogs and Cats\n",
            "Polyuria/Polydipsia in Dogs and Cats\n",
            "Pyelonephritis in Dogs and Cats\n",
            "Urinary Tract (Bladder) Infection in Dogs and Cats\n",
            "Bilious Vomiting Syndrome in Dogs and Cats\n",
            "Pregnancy Termination in Dogs and Cats\n",
            "Behavior Supplements in Dogs and Cats\n",
            "Home Cooked or Raw Diets for Dogs and Cats\n",
            "Obesity is Unhealthy in Dogs and Cats\n",
            "How to Beat Confinement Woes in Dogs and Cats\n",
            "Giving Oral Medications to Dogs and Cats\n",
            "Practical Dental Care Tips for Dogs and Cats\n",
            "Topical Therapy for Skin Conditions in Dogs and Cats\n",
            "Vaccine Information for Dogs, Cats, Puppies and Kittens\n",
            "Wound Healing in Dogs and Cats\n",
            "Lead Poisoning in Dogs and Cats\n",
            "Poisoning in Dogs and Cats\n",
            "Rat Poison (Bromethalin-Based) in Dogs and Cats\n",
            "Rat Poison's Effect on Dogs and Cats\n",
            "Ibuprofen Toxicity in Dogs and Cats\n",
            "Zinc Poisoning in Dogs and Cats\n",
            "Mushroom Poisoning in Dogs and Cats\n",
            "Poisonous Plants for  Dogs and Cats\n",
            "Safe Gardening for Dogs and Cats\n",
            "Car Ride Anxiety in Dogs and Cats\n",
            "Fear of Noises in Dogs and Cats\n",
            "Using Medication to Lower Veterinary Visit Stress in Dogs and Cats\n",
            "How to Beat Confinement Woes in Dogs and Cats\n",
            "Allergic Conjunctivitis in Dogs and Cats\n",
            "Allergies: Atopic Dermatitis in Dogs and Cats\n",
            "Chylothorax is more Common in Cats than Dogs\n",
            "Dust Mites: Minimizing Exposure in Dogs and Cats\n",
            "Food Allergies in Dogs and Cats\n",
            "Immune Mediated Hemolytic Anemia (IMHA) in Dogs and Cats\n",
            "Immunotherapy for Allergies in Cats, Dogs, and Horses\n",
            "Itch Relief for Dogs and Cats\n",
            "Pemphigus Foliaceus in Dogs and Cats\n",
            "Steroid Use in Dogs and Cats\n",
            "Vaccine Allergic Reactions in Dogs and Cats\n",
            "Disseminated Intravascular Coagulation (DIC) in Dogs and Cats\n",
            "Flea Anemia in Cats and Dogs\n",
            "Immune Mediated Hemolytic Anemia (IMHA) in Dogs and Cats\n",
            "Multiple Myeloma in Dogs and Cats\n",
            "Renal Anemia, or Inadequate Red Blood Cells, in Dogs and Cats\n",
            "Thrombocytopenia in Dogs and Cats\n",
            "Common Lymphoma Chemotherapy Medications for Cats and Dogs\n",
            "Hemangiosarcoma is Blood or Skin Cancer in Dogs and Cats\n",
            "Insulinoma in Dogs and Cats\n",
            "Liver Tumors and Cancers in Dogs and Cats\n",
            "Lung Cancer in Dogs and Cats\n",
            "Lymphoma in the Skin of Dogs\n",
            "Malignant Melanoma in Dogs and Cats\n",
            "Malignant Thyroid Tumors in Dogs and Cats\n",
            "Mast Cell Tumors in Dogs and Cats\n",
            "Meningioma in Dogs and Cats\n",
            "Multiple Myeloma in Dogs and Cats\n",
            "Oral Squamous Cell Carcinoma in Dogs and Cats\n",
            "Transitional Cell Carcinoma in Dogs and Cats\n",
            "Atrial Fibrillation in Dogs and Cats\n",
            "Congestive Heart Failure in Dogs and Cats\n",
            "Cutaneous Vasculitis in Dogs and Cats\n",
            "Diaphragmatic Hernias in Dogs and Cats\n",
            "Diets and Heart Disease in Dogs and Cats\n",
            "Dilated Cardiomyopathy in Dogs and Cats\n",
            "Heart Murmurs in Dogs and Cats\n",
            "Pacemakers in Dogs and Cats\n",
            "Patent Ductus Arteriosus in Dogs and Cats\n",
            "Portal Vein Hypoplasia in Dogs and Cats\n",
            "Pulmonary Hypertension in Dogs and Cats\n",
            "Sleeping and Resting Respiratory Rates of Dogs and Cats with Heart Disease\n",
            "Vascular Accidents (S\n"
          ]
        }
      ]
    },
    {
      "cell_type": "code",
      "source": [
        "# Verify if the file is created\n",
        "output_directory = '/content/sample_data'\n",
        "output_file = os.path.join(output_directory, 'veterinary_data1.txt')\n",
        "\n",
        "if os.path.exists(output_file):\n",
        "    print(f\"File exists: {output_file}\")\n",
        "    with open(output_file, 'r', encoding='utf-8') as f:\n",
        "        text = f.read()\n",
        "        print(\"length of data in letter or characters\")\n",
        "        print(len(text))\n",
        "else:\n",
        "    print(\"File not found.\")\n"
      ],
      "metadata": {
        "colab": {
          "base_uri": "https://localhost:8080/"
        },
        "id": "3zRlELKz7tO9",
        "outputId": "0da23f47-7b55-4120-e6ad-690259ad7181"
      },
      "execution_count": 16,
      "outputs": [
        {
          "output_type": "stream",
          "name": "stdout",
          "text": [
            "File exists: /content/sample_data/veterinary_data1.txt\n",
            "length of data in letter or characters\n",
            "42675\n"
          ]
        }
      ]
    },
    {
      "cell_type": "code",
      "source": [
        "list(set(text))\n"
      ],
      "metadata": {
        "colab": {
          "base_uri": "https://localhost:8080/"
        },
        "id": "yQTfxkUw-l0e",
        "outputId": "718ba5bf-2fc5-4688-99da-5df3e8086980"
      },
      "execution_count": 18,
      "outputs": [
        {
          "output_type": "execute_result",
          "data": {
            "text/plain": [
              "['7',\n",
              " '’',\n",
              " '8',\n",
              " '.',\n",
              " 'g',\n",
              " 'C',\n",
              " 'M',\n",
              " 'L',\n",
              " '/',\n",
              " 'T',\n",
              " 'x',\n",
              " 'K',\n",
              " 'w',\n",
              " 'r',\n",
              " 'c',\n",
              " 'm',\n",
              " \"'\",\n",
              " 'Y',\n",
              " '?',\n",
              " 'a',\n",
              " 's',\n",
              " '\\n',\n",
              " 'U',\n",
              " 'b',\n",
              " 'Z',\n",
              " '%',\n",
              " ';',\n",
              " 'd',\n",
              " 'G',\n",
              " 'O',\n",
              " 't',\n",
              " 'W',\n",
              " 'A',\n",
              " 'y',\n",
              " 'f',\n",
              " 'k',\n",
              " '(',\n",
              " 'n',\n",
              " '&',\n",
              " 'F',\n",
              " '™',\n",
              " 'R',\n",
              " 'S',\n",
              " 'o',\n",
              " 'J',\n",
              " 'V',\n",
              " 'D',\n",
              " 'P',\n",
              " ')',\n",
              " 'z',\n",
              " 'H',\n",
              " 'j',\n",
              " '-',\n",
              " 'p',\n",
              " 'u',\n",
              " 'N',\n",
              " 'q',\n",
              " ':',\n",
              " 'v',\n",
              " 'i',\n",
              " ' ',\n",
              " 'e',\n",
              " 'h',\n",
              " ',',\n",
              " 'I',\n",
              " 'E',\n",
              " 'B',\n",
              " 'l']"
            ]
          },
          "metadata": {},
          "execution_count": 18
        }
      ]
    },
    {
      "cell_type": "code",
      "source": [
        "def simple_response_model(query, text):\n",
        "    if query.lower() in text.lower():\n",
        "        response = \"Yes, we found information related to your query.\"\n",
        "    else:\n",
        "        response = \"Sorry, no information found on that topic.\"\n",
        "    return response\n",
        "\n",
        "# Example query\n",
        "query = \"Why is my dog having an allergy?\"\n",
        "response = simple_response_model(query, text)\n",
        "print(response)\n"
      ],
      "metadata": {
        "colab": {
          "base_uri": "https://localhost:8080/"
        },
        "id": "tzCxLLyP7tSy",
        "outputId": "dd0bc882-b21b-4d75-d142-3876d80b7cd0"
      },
      "execution_count": 17,
      "outputs": [
        {
          "output_type": "stream",
          "name": "stdout",
          "text": [
            "Sorry, no information found on that topic.\n"
          ]
        }
      ]
    },
    {
      "cell_type": "code",
      "source": [],
      "metadata": {
        "id": "sICi7Iw97tV-"
      },
      "execution_count": null,
      "outputs": []
    },
    {
      "cell_type": "code",
      "source": [],
      "metadata": {
        "id": "Ay3Tf5Q-7tZD"
      },
      "execution_count": null,
      "outputs": []
    },
    {
      "cell_type": "code",
      "source": [],
      "metadata": {
        "id": "xD2-bAab7tcO"
      },
      "execution_count": null,
      "outputs": []
    },
    {
      "cell_type": "code",
      "source": [],
      "metadata": {
        "id": "dAbOv-QC7te4"
      },
      "execution_count": null,
      "outputs": []
    },
    {
      "cell_type": "code",
      "source": [],
      "metadata": {
        "id": "YRYCzd3b7ti8"
      },
      "execution_count": null,
      "outputs": []
    },
    {
      "cell_type": "code",
      "source": [],
      "metadata": {
        "id": "XAXuPJZ87tlI"
      },
      "execution_count": null,
      "outputs": []
    },
    {
      "cell_type": "code",
      "source": [],
      "metadata": {
        "id": "LKbc4qnD7tm9"
      },
      "execution_count": null,
      "outputs": []
    },
    {
      "cell_type": "code",
      "source": [],
      "metadata": {
        "id": "ylT8Tffg7tp1"
      },
      "execution_count": null,
      "outputs": []
    },
    {
      "cell_type": "code",
      "source": [],
      "metadata": {
        "id": "svQMD4hR7ttQ"
      },
      "execution_count": null,
      "outputs": []
    }
  ]
}
